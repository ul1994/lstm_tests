{
 "cells": [
  {
   "cell_type": "code",
   "execution_count": 1,
   "metadata": {},
   "outputs": [],
   "source": [
    "import os, sys\n",
    "import matplotlib.pyplot as plt\n",
    "import numpy as np"
   ]
  },
  {
   "cell_type": "code",
   "execution_count": 2,
   "metadata": {},
   "outputs": [],
   "source": [
    "JHMDB_PATH = '/beegfs/ua349/lstm/JHMDB'\n",
    "\n",
    "imfolder = '%s/Rename_Images' % (JHMDB_PATH)\n",
    "maskfolder = '%s/puppet_mask' % (JHMDB_PATH)\n",
    "maskfolder = '%s/joint_positions' % (JHMDB_PATH)\n",
    "\n",
    "cats = os.listdir(imfolder)"
   ]
  },
  {
   "cell_type": "code",
   "execution_count": 3,
   "metadata": {},
   "outputs": [],
   "source": [
    "def just_folders(ls):\n",
    "    return [fl for fl in ls if '.' not in fl]"
   ]
  },
  {
   "cell_type": "code",
   "execution_count": 4,
   "metadata": {},
   "outputs": [],
   "source": [
    "imlens = []\n",
    "for catfolder in just_folders(cats):    \n",
    "    vidnames = os.listdir('%s/%s' % (imfolder, catfolder))\n",
    "    for vidfolder in just_folders(vidnames):\n",
    "        imgs = os.listdir('%s/%s/%s' % (imfolder, catfolder, vidfolder))\n",
    "        imlens.append(len(imgs))"
   ]
  },
  {
   "cell_type": "code",
   "execution_count": 5,
   "metadata": {},
   "outputs": [],
   "source": [
    "dist = np.zeros(np.max(imlens) + 1)\n",
    "for ll in imlens:\n",
    "    dist[ll] += 1"
   ]
  },
  {
   "cell_type": "code",
   "execution_count": 10,
   "metadata": {},
   "outputs": [
    {
     "data": {
      "image/png": "[encoded data removed]",
      "text/plain": [
       "<Figure size 1008x432 with 1 Axes>"
      ]
     },
     "metadata": {},
     "output_type": "display_data"
    }
   ],
   "source": [
    "plt.figure(figsize=(14, 6))\n",
    "plt.title('%d videos' % len(imlens))\n",
    "plt.xlim(0, 50)\n",
    "plt.scatter(\n",
    "    [ii for ii in range(len(dist)) if dist[ii] > 0],\n",
    "    [val for val in dist if val > 0])\n",
    "plt.show()"
   ]
  },
  {
   "cell_type": "code",
   "execution_count": 11,
   "metadata": {},
   "outputs": [],
   "source": [
    "%load_ext autoreload\n",
    "%autoreload 2\n",
    "%matplotlib inline"
   ]
  },
  {
   "cell_type": "code",
   "execution_count": 12,
   "metadata": {},
   "outputs": [
    {
     "name": "stderr",
     "output_type": "stream",
     "text": [
      "/usr/lib/python3.5/importlib/_bootstrap.py:222: RuntimeWarning: numpy.dtype size changed, may indicate binary incompatibility. Expected 96, got 88\n",
      "  return f(*args, **kwds)\n",
      "/usr/lib/python3.5/importlib/_bootstrap.py:222: RuntimeWarning: numpy.dtype size changed, may indicate binary incompatibility. Expected 96, got 88\n",
      "  return f(*args, **kwds)\n",
      "/usr/lib/python3.5/importlib/_bootstrap.py:222: RuntimeWarning: numpy.dtype size changed, may indicate binary incompatibility. Expected 96, got 88\n",
      "  return f(*args, **kwds)\n"
     ]
    }
   ],
   "source": [
    "from generate_video import *"
   ]
  },
  {
   "cell_type": "code",
   "execution_count": 39,
   "metadata": {},
   "outputs": [
    {
     "name": "stdout",
     "output_type": "stream",
     "text": [
      "No mask: /beegfs/ua349/lstm/JHMDB/puppet_mask/catch/LearnToShootFromTheMaster_catch_f_nm_np1_ba_med_2/puppet_mask.mat\n",
      "No mask: /beegfs/ua349/lstm/JHMDB/puppet_mask/catch/Sam_Cooksey_Goalkeeper_Training_catch_f_cm_np1_le_bad_3/puppet_mask.mat\n",
      "No mask: /beegfs/ua349/lstm/JHMDB/puppet_mask/catch/Sam_Cooksey_Goalkeeper_Training_catch_f_cm_np1_ri_bad_1/puppet_mask.mat\n",
      "No mask: /beegfs/ua349/lstm/JHMDB/puppet_mask/catch/St__Louis_Goalkeeping__Academy_elite_training_catch_f_nm_np1_le_bad_3/puppet_mask.mat\n",
      "No mask: /beegfs/ua349/lstm/JHMDB/puppet_mask/jump/IamLegend_jump_f_cm_np1_ba_bad_12/puppet_mask.mat\n",
      "No mask: /beegfs/ua349/lstm/JHMDB/puppet_mask/jump/THE_PROTECTOR_jump_f_cm_np1_ba_bad_30/puppet_mask.mat\n",
      "No mask: /beegfs/ua349/lstm/JHMDB/puppet_mask/kick_ball/Banned_Commercials_-_Nike_-_Soccer_vs_ninjas_kick_ball_f_cm_np1_le_med_6/puppet_mask.mat\n",
      "No mask: /beegfs/ua349/lstm/JHMDB/puppet_mask/kick_ball/FC_Venus_-_Ausschnitt_Teil_2_kick_ball_f_cm_np1_fr_med_0/puppet_mask.mat\n",
      "No mask: /beegfs/ua349/lstm/JHMDB/puppet_mask/kick_ball/Lattenknaller_-_M_nner_wie_wir_(Teil_11)_kick_ball_f_cm_np1_fr_goo_0/puppet_mask.mat\n",
      "No mask: /beegfs/ua349/lstm/JHMDB/puppet_mask/kick_ball/Nike_Soccer_Freestyle_kick_ball_f_cm_np1_ba_med_1/puppet_mask.mat\n",
      "No mask: /beegfs/ua349/lstm/JHMDB/puppet_mask/kick_ball/Nike_Soccer_Freestyle_kick_ball_f_cm_np1_fr_med_0/puppet_mask.mat\n",
      "No mask: /beegfs/ua349/lstm/JHMDB/puppet_mask/kick_ball/Nike_Soccer_Freestyle_kick_ball_f_cm_np1_le_med_2/puppet_mask.mat\n",
      "No mask: /beegfs/ua349/lstm/JHMDB/puppet_mask/kick_ball/Wayne_Rooney_At_Home_Funny_Must_See_kick_ball_f_cm_np1_le_bad_4/puppet_mask.mat\n",
      "No mask: /beegfs/ua349/lstm/JHMDB/puppet_mask/run/EVOLUTION_run_f_nm_np2_fr_med_25/puppet_mask.mat\n",
      "No mask: /beegfs/ua349/lstm/JHMDB/puppet_mask/run/HP_PRISONER_OF_AZKABAN_run_f_nm_np1_fr_med_25/puppet_mask.mat\n",
      "No mask: /beegfs/ua349/lstm/JHMDB/puppet_mask/run/THE_PROTECTOR_run_f_nm_np1_fr_med_71/puppet_mask.mat\n",
      "No mask: /beegfs/ua349/lstm/JHMDB/puppet_mask/run/The_Matrix_3_run_f_cm_np1_ba_med_8/puppet_mask.mat\n",
      "No mask: /beegfs/ua349/lstm/JHMDB/puppet_mask/shoot_ball/LearnToShootFromTheMaster_shoot_ball_f_nm_np1_ba_med_2/puppet_mask.mat\n",
      "No mask: /beegfs/ua349/lstm/JHMDB/puppet_mask/shoot_ball/ReggieMillerTakesonThreeAverageGuysinaShootout_shoot_ball_f_cm_np1_fr_med_15/puppet_mask.mat\n",
      "No mask: /beegfs/ua349/lstm/JHMDB/puppet_mask/shoot_ball/ReggieMillerTakesonThreeAverageGuysinaShootout_shoot_ball_u_nm_np1_le_med_20/puppet_mask.mat\n",
      "No mask: /beegfs/ua349/lstm/JHMDB/puppet_mask/shoot_ball/WeTheKingsplaying_shoot_ball_u_cm_np1_ba_med_6/puppet_mask.mat\n",
      "No mask: /beegfs/ua349/lstm/JHMDB/puppet_mask/sit/Crash_sit_f_cm_np1_fr_med_5/puppet_mask.mat\n",
      "No mask: /beegfs/ua349/lstm/JHMDB/puppet_mask/stand/20070723_sfjff_waitingforrescue_stand_f_nm_np1_fr_med_0/puppet_mask.mat\n",
      "No mask: /beegfs/ua349/lstm/JHMDB/puppet_mask/stand/CastAway1_stand_f_nm_np1_le_med_24/puppet_mask.mat\n",
      "No mask: /beegfs/ua349/lstm/JHMDB/puppet_mask/stand/Prelinger_HabitPat1954_stand_f_nm_np1_ba_med_12/puppet_mask.mat\n",
      "No mask: /beegfs/ua349/lstm/JHMDB/puppet_mask/stand/St__Louis_Goalkeeping__Academy_elite_training_stand_f_nm_np1_le_bad_3/puppet_mask.mat\n",
      "No mask: /beegfs/ua349/lstm/JHMDB/puppet_mask/stand/Veoh_Alpha_Dog_1_stand_f_nm_np1_fr_med_41/puppet_mask.mat\n",
      "21/24\r"
     ]
    },
    {
     "data": {
      "image/png": "[encoded data removed]",
      "text/plain": [
       "<Figure size 1008x432 with 1 Axes>"
      ]
     },
     "metadata": {},
     "output_type": "display_data"
    }
   ],
   "source": [
    "dset = MultiVideoDataset(seqlen=4, speedup=2, bins=7, plot_buckets=True, source='jhmdb')"
   ]
  },
  {
   "cell_type": "code",
   "execution_count": null,
   "metadata": {},
   "outputs": [],
   "source": []
  }
 ],
 "metadata": {
  "kernelspec": {
   "display_name": "Python 3",
   "language": "python",
   "name": "python3"
  },
  "language_info": {
   "codemirror_mode": {
    "name": "ipython",
    "version": 3
   },
   "file_extension": ".py",
   "mimetype": "text/x-python",
   "name": "python",
   "nbconvert_exporter": "python",
   "pygments_lexer": "ipython3",
   "version": "3.5.2"
  }
 },
 "nbformat": 4,
 "nbformat_minor": 2
}
