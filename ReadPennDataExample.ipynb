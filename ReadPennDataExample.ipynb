{
 "cells": [
  {
   "cell_type": "code",
   "execution_count": null,
   "metadata": {},
   "outputs": [],
   "source": [
    "%load_ext autoreload\n",
    "%autoreload 2\n",
    "%matplotlib inline"
   ]
  },
  {
   "cell_type": "code",
   "execution_count": 14,
   "metadata": {},
   "outputs": [],
   "source": [
    "from generate_video import *"
   ]
  },
  {
   "cell_type": "code",
   "execution_count": 15,
   "metadata": {},
   "outputs": [
    {
     "name": "stdout",
     "output_type": "stream",
     "text": [
      "WARN: Missing bbox /beegfs/ua349/lstm/Penn_Action/labels/1154\n",
      "\n",
      "WARN: Missing bbox /beegfs/ua349/lstm/Penn_Action/labels/1865\n",
      "\n",
      "2325/2326 ~ 41823\r"
     ]
    }
   ],
   "source": [
    "dset = gather_videos()"
   ]
  },
  {
   "cell_type": "code",
   "execution_count": 16,
   "metadata": {},
   "outputs": [],
   "source": [
    "# import os, sys\n",
    "# for ii in range(100 * 100):\n",
    "#     sys.stdout.write('%d/%d\\r' % (ii, 3000))\n",
    "#     sys.stdout.flush()\n",
    "videos, masks, targets = next_video_batch(dset, bsize=1)"
   ]
  },
  {
   "cell_type": "code",
   "execution_count": 17,
   "metadata": {},
   "outputs": [
    {
     "name": "stdout",
     "output_type": "stream",
     "text": [
      "(1, 4, 368, 368, 3)\n",
      "(1, 4, 46, 46, 19)\n",
      "(1, 4, 46, 46, 19)\n"
     ]
    }
   ],
   "source": [
    "print(videos.shape)\n",
    "print(masks.shape)\n",
    "print(targets.shape)\n",
    "\n",
    "vid1 = videos[0]\n",
    "heat1 = targets[0]\n",
    "mask1 = masks[0]"
   ]
  },
  {
   "cell_type": "code",
   "execution_count": null,
   "metadata": {},
   "outputs": [],
   "source": [
    "\n",
    "import matplotlib.pyplot as plt\n",
    "plt.figure(figsize=(14, 10))\n",
    "plt.imshow(mask1[:, :, 0])\n",
    "plt.show()"
   ]
  },
  {
   "cell_type": "code",
   "execution_count": null,
   "metadata": {},
   "outputs": [],
   "source": [
    "\n",
    "import matplotlib.pyplot as plt\n",
    "\n",
    "heat1 = targets[0]\n",
    "\n",
    "plt.figure(figsize=(14, 10))\n",
    "plt.imshow(heat1[0][:,:, -1])\n",
    "plt.show()"
   ]
  },
  {
   "cell_type": "code",
   "execution_count": null,
   "metadata": {},
   "outputs": [],
   "source": [
    "\n",
    "import matplotlib.pyplot as plt\n",
    "\n",
    "\n",
    "\n",
    "\n",
    "plt.figure(figsize=(14, 10))\n",
    "for ii in range(4):\n",
    "    plt.subplot(3, 4, ii+1)\n",
    "    plt.imshow(vid1[ii]/256)\n",
    "for ii in range(4):\n",
    "    plt.subplot(3, 4, 4+ii+1)\n",
    "    img = np.sum(heat1[ii][:-1], axis=-1)\n",
    "    plt.imshow(img)\n",
    "for ii in range(4):\n",
    "    plt.subplot(3, 4, 8+ii+1)\n",
    "    img = mask1[ii]\n",
    "    plt.imshow(np.sum(img, axis=-1))\n",
    "\n",
    "plt.show()"
   ]
  },
  {
   "cell_type": "code",
   "execution_count": null,
   "metadata": {},
   "outputs": [],
   "source": []
  }
 ],
 "metadata": {
  "kernelspec": {
   "display_name": "Python 3",
   "language": "python",
   "name": "python3"
  },
  "language_info": {
   "codemirror_mode": {
    "name": "ipython",
    "version": 3
   },
   "file_extension": ".py",
   "mimetype": "text/x-python",
   "name": "python",
   "nbconvert_exporter": "python",
   "pygments_lexer": "ipython3",
   "version": "3.6.3"
  }
 },
 "nbformat": 4,
 "nbformat_minor": 2
}
