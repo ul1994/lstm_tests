{
 "cells": [
  {
   "cell_type": "code",
   "execution_count": 1,
   "metadata": {},
   "outputs": [
    {
     "name": "stderr",
     "output_type": "stream",
     "text": [
      "/share/apps/python3/3.6.3/intel/lib/python3.6/site-packages/h5py-2.7.1-py3.6-linux-x86_64.egg/h5py/__init__.py:36: FutureWarning: Conversion of the second argument of issubdtype from `float` to `np.floating` is deprecated. In future, it will be treated as `np.float64 == np.dtype(float).type`.\n",
      "  from ._conv import register_converters as _register_converters\n"
     ]
    }
   ],
   "source": [
    "import scipy.ndimage\n",
    "from scipy.ndimage import gaussian_filter as blur\n",
    "\n",
    "import tensorflow as tf\n",
    "from tensorflow.examples.tutorials.mnist import input_data"
   ]
  },
  {
   "cell_type": "code",
   "execution_count": 2,
   "metadata": {},
   "outputs": [
    {
     "name": "stdout",
     "output_type": "stream",
     "text": [
      "Extracting ./data/train-images-idx3-ubyte.gz\n",
      "Extracting ./data/train-labels-idx1-ubyte.gz\n",
      "Extracting ./data/t10k-images-idx3-ubyte.gz\n",
      "Extracting ./data/t10k-labels-idx1-ubyte.gz\n"
     ]
    }
   ],
   "source": [
    "mnist = input_data.read_data_sets('./data', one_hot=True)"
   ]
  },
  {
   "cell_type": "code",
   "execution_count": 3,
   "metadata": {},
   "outputs": [
    {
     "name": "stdout",
     "output_type": "stream",
     "text": [
      "10000\n"
     ]
    }
   ],
   "source": [
    "print(len(mnist.test.images))"
   ]
  },
  {
   "cell_type": "code",
   "execution_count": 4,
   "metadata": {},
   "outputs": [],
   "source": [
    "import matplotlib.pyplot as plt"
   ]
  },
  {
   "cell_type": "code",
   "execution_count": 5,
   "metadata": {},
   "outputs": [
    {
     "name": "stdout",
     "output_type": "stream",
     "text": [
      "(784,)\n",
      "1.0\n"
     ]
    },
    {
     "data": {
      "image/png": "[encoded data removed]",
      "text/plain": [
       "<matplotlib.figure.Figure at 0x2b35d7f01f60>"
      ]
     },
     "metadata": {},
     "output_type": "display_data"
    }
   ],
   "source": [
    "import numpy as np\n",
    "print(mnist.test.images[0].shape)\n",
    "print(np.max(mnist.test.images[0]))\n",
    "plt.figure(figsize=(5, 5))\n",
    "plt.imshow(mnist.test.images[0].reshape((28, 28)))\n",
    "plt.show()"
   ]
  },
  {
   "cell_type": "code",
   "execution_count": 14,
   "metadata": {},
   "outputs": [],
   "source": [
    "from random import randint\n",
    "\n",
    "def place(img, im_size=0.5, frame_size=128):\n",
    "    img = img.reshape((28, 28))\n",
    "    img = cv2.resize(img, (0,0), fx=im_size, fy=im_size)\n",
    "    ry, rx = randint(0, frame_size-img.shape[0]-1), randint(0, frame_size-img.shape[0]-1)\n",
    "    return img, (rx, ry)\n",
    "    "
   ]
  },
  {
   "cell_type": "code",
   "execution_count": 15,
   "metadata": {},
   "outputs": [],
   "source": [
    "img, (rx, ry) = place(mnist.test.images[0])"
   ]
  },
  {
   "cell_type": "markdown",
   "metadata": {},
   "source": [
    "### What advantages does temporal-aware model give us?\n",
    "\n",
    "* Some tracking past occlusion\n",
    "* Less confusion between background-foreground\n",
    "* Awareness of likeliness given previous locations"
   ]
  },
  {
   "cell_type": "code",
   "execution_count": 16,
   "metadata": {},
   "outputs": [
    {
     "data": {
      "image/png": "[encoded data removed]",
      "text/plain": [
       "<matplotlib.figure.Figure at 0x2b35d8d71588>"
      ]
     },
     "metadata": {},
     "output_type": "display_data"
    }
   ],
   "source": [
    "def get_direction():\n",
    "    dirs = [(-1, -1), (-1, 1), (1, -1), (1, 1), (1, 0), (0, 1), (-1, 0), (0, -1)]\n",
    "    return dirs[randint(0, len(dirs)-1)]\n",
    "\n",
    "def animate(initial, steps=10, speed=5, size=128):\n",
    "    img, (x0, y0) = initial\n",
    "    ih, iw = img.shape\n",
    "    coords = [(x0, y0)]\n",
    "    \n",
    "    rx, ry = get_direction()\n",
    "    \n",
    "    bg = np.zeros((size, size))\n",
    "    bg[y0:y0+ih, x0:x0+iw] = img\n",
    "    \n",
    "    frames = [bg]\n",
    "    for ii in range(steps):\n",
    "        dy, dx = ry* speed, rx* speed\n",
    "\n",
    "        # redirect if OOB:\n",
    "        while bg[y0+dy:y0+dy+ih, x0+dx:x0+dx+iw].shape != (ih, iw):\n",
    "            rx, ry = get_direction()\n",
    "            dy, dx = ry* speed, rx* speed\n",
    "        \n",
    "        y0 += dy\n",
    "        x0 += dx\n",
    "        coords.append((x0, y0))\n",
    "        bg = np.zeros((size, size))\n",
    "        bg[y0:y0+ih, x0:x0+iw] = img\n",
    "        frames.append(bg)\n",
    "    return frames, coords\n",
    "    \n",
    "frames, coords = animate(place(mnist.test.images[0]), steps=10)\n",
    "\n",
    "plt.figure(figsize=(14, 5))\n",
    "for ii in range(5):\n",
    "    plt.subplot(1, 5, ii+1)\n",
    "    plt.gca().set_title('%s' % (coords[ii], ))\n",
    "    plt.imshow(frames[ii])\n",
    "plt.show()"
   ]
  },
  {
   "cell_type": "code",
   "execution_count": 17,
   "metadata": {},
   "outputs": [
    {
     "name": "stdout",
     "output_type": "stream",
     "text": [
      "121\n"
     ]
    }
   ],
   "source": [
    "frames, coords = animate(place(mnist.test.images[0]), steps=120)\n",
    "print(len(frames))"
   ]
  },
  {
   "cell_type": "code",
   "execution_count": 18,
   "metadata": {},
   "outputs": [],
   "source": [
    "import cv2\n",
    "out = cv2.VideoWriter('mnist.avi', cv2.VideoWriter_fourcc(*'MJPG'), 30, (128, 128))\n",
    "for frame in frames:\n",
    "    disc = (frame*255).astype('uint8')\n",
    "    clr = np.stack([disc, disc, disc], axis=2)\n",
    "    out.write(clr)\n",
    "out.release()"
   ]
  },
  {
   "cell_type": "code",
   "execution_count": 19,
   "metadata": {},
   "outputs": [
    {
     "data": {
      "text/html": [
       "     <div align=\"left\">     <video width=\"25%\" controls>           <source src=\"./mnist.avi\" type=\"video/avi\">     </video></div> "
      ],
      "text/plain": [
       "<IPython.core.display.HTML object>"
      ]
     },
     "execution_count": 19,
     "metadata": {},
     "output_type": "execute_result"
    }
   ],
   "source": [
    "from IPython.core.display import display, HTML\n",
    "# display(HTML('<h1>Hello, world!</h1>'))\n",
    "HTML(' \\\n",
    "    <div align=\"left\"> \\\n",
    "    <video width=\"25%\" controls> \\\n",
    "          <source src=\"./mnist.avi\" type=\"video/avi\"> \\\n",
    "    </video></div> \\\n",
    "')"
   ]
  },
  {
   "cell_type": "code",
   "execution_count": 43,
   "metadata": {},
   "outputs": [
    {
     "data": {
      "image/png": "[encoded data removed]",
      "text/plain": [
       "<matplotlib.figure.Figure at 0x2b35da75d588>"
      ]
     },
     "metadata": {},
     "output_type": "display_data"
    }
   ],
   "source": [
    "def matching_heatmap(coords, imsize=14, framesize=128):\n",
    "    heats = []\n",
    "    radius = int(imsize/2)\n",
    "    for (xx, yy) in coords:\n",
    "        bg = np.zeros((framesize, framesize))\n",
    "        bg[yy+radius, xx+radius] = 255\n",
    "        blurred = blur(bg, sigma=7)\n",
    "        blurred /= np.max(blurred)\n",
    "        heats.append((blurred * 255).astype(np.uint8))\n",
    "    return heats\n",
    "\n",
    "heats = matching_heatmap(coords)\n",
    "\n",
    "plt.figure()\n",
    "plt.imshow(frames[0])\n",
    "# print(np.max(heats[0]))\n",
    "plt.imshow(heats[0], alpha=0.5)\n",
    "plt.show()\n",
    "\n",
    "# for ii in range(100):\n",
    "#     frames, coords = animate(place(mnist.test.images[ii]), steps=64)"
   ]
  },
  {
   "cell_type": "code",
   "execution_count": 57,
   "metadata": {},
   "outputs": [
    {
     "name": "stdout",
     "output_type": "stream",
     "text": [
      "99/100\n"
     ]
    }
   ],
   "source": [
    "import sys\n",
    "for ii in range(100):\n",
    "    sys.stdout.write('%d/100\\r' % ii)\n",
    "    sys.stdout.flush()\n",
    "    out = cv2.VideoWriter('data/eval/%d_video.avi' % ii, cv2.VideoWriter_fourcc(*'MJPG'), 30, (128, 128))\n",
    "    frames, coords = animate(place(mnist.test.images[ii]), steps=63)\n",
    "    for frame in frames:\n",
    "        disc = (frame*255).astype('uint8')\n",
    "        clr = np.stack([disc, disc, disc], axis=2)\n",
    "        out.write(clr)\n",
    "    out.release()\n",
    "    \n",
    "    heats = matching_heatmap(coords)\n",
    "    out = cv2.VideoWriter('data/eval/%d_heat.avi' % ii, cv2.VideoWriter_fourcc(*'MJPG'), 30, (128, 128))\n",
    "    for frame in heats:\n",
    "#         disc = (frame*255).astype('uint8')\n",
    "        clr = np.stack([frame, frame, frame], axis=2)\n",
    "        out.write(clr)\n",
    "    out.release()\n",
    "print()"
   ]
  },
  {
   "cell_type": "code",
   "execution_count": 56,
   "metadata": {},
   "outputs": [
    {
     "data": {
      "text/html": [
       "     <div style=\"width:300px;float:left\">     <video width=\"100%\" controls>           <source src=\"data/eval/0_heat.avi\" type=\"video/avi\">     </video></div>     <div style=\"width:300px;float:left\">     <video width=\"100%\" controls>           <source src=\"data/eval/0_video.avi\" type=\"video/avi\">     </video></div> "
      ],
      "text/plain": [
       "<IPython.core.display.HTML object>"
      ]
     },
     "execution_count": 56,
     "metadata": {},
     "output_type": "execute_result"
    }
   ],
   "source": [
    "HTML(' \\\n",
    "    <div style=\"width:300px;float:left\"> \\\n",
    "    <video width=\"100%\" controls> \\\n",
    "          <source src=\"data/eval/0_heat.avi\" type=\"video/avi\"> \\\n",
    "    </video></div> \\\n",
    "    <div style=\"width:300px;float:left\"> \\\n",
    "    <video width=\"100%\" controls> \\\n",
    "          <source src=\"data/eval/0_video.avi\" type=\"video/avi\"> \\\n",
    "    </video></div> \\\n",
    "')"
   ]
  },
  {
   "cell_type": "code",
   "execution_count": null,
   "metadata": {},
   "outputs": [],
   "source": []
  }
 ],
 "metadata": {
  "kernelspec": {
   "display_name": "Python 3",
   "language": "python",
   "name": "python3"
  },
  "language_info": {
   "codemirror_mode": {
    "name": "ipython",
    "version": 3
   },
   "file_extension": ".py",
   "mimetype": "text/x-python",
   "name": "python",
   "nbconvert_exporter": "python",
   "pygments_lexer": "ipython3",
   "version": "3.6.3"
  }
 },
 "nbformat": 4,
 "nbformat_minor": 2
}
