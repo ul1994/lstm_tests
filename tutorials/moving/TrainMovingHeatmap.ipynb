{
 "cells": [
  {
   "cell_type": "code",
   "execution_count": 1,
   "metadata": {},
   "outputs": [],
   "source": [
    "%load_ext autoreload\n",
    "%autoreload 2"
   ]
  },
  {
   "cell_type": "markdown",
   "metadata": {},
   "source": [
    "### Static Mnist Video - Heatmap Prediction\n",
    "\n",
    "Heatmap is predicted in a video with static unmoving frames where an mnist digit is placed randomly in a larger canvas.\n",
    "\n",
    "An LSTM cell is used to track the internal state of the model while generating a heatmap for every frame.\n",
    "\n",
    "Training is done by unrolling up to 6 past frames.\n",
    "\n",
    "#### Issue with BasicLSTMCell\n",
    "\n",
    "Its implementation does not easily allow feed-forward of heatmap outputs from previous frames.\n",
    "\n",
    "This means that a \"running\" evaluation of the network is not possible. It is limited to segments of 6 frames.\n",
    "\n",
    "To partially circumvent the issue, a previous known dependable heatmap could be passed in along with the first `t-6` frame during training and the timeframe `t=6` be increased."
   ]
  },
  {
   "cell_type": "code",
   "execution_count": 2,
   "metadata": {},
   "outputs": [
    {
     "name": "stderr",
     "output_type": "stream",
     "text": [
      "/share/apps/python3/3.6.3/intel/lib/python3.6/site-packages/h5py-2.7.1-py3.6-linux-x86_64.egg/h5py/__init__.py:36: FutureWarning: Conversion of the second argument of issubdtype from `float` to `np.floating` is deprecated. In future, it will be treated as `np.float64 == np.dtype(float).type`.\n",
      "  from ._conv import register_converters as _register_converters\n"
     ]
    },
    {
     "name": "stdout",
     "output_type": "stream",
     "text": [
      "Extracting ./data/train-images-idx3-ubyte.gz\n",
      "Extracting ./data/train-labels-idx1-ubyte.gz\n",
      "Extracting ./data/t10k-images-idx3-ubyte.gz\n",
      "Extracting ./data/t10k-labels-idx1-ubyte.gz\n"
     ]
    }
   ],
   "source": [
    "from generate import *"
   ]
  },
  {
   "cell_type": "code",
   "execution_count": 3,
   "metadata": {},
   "outputs": [],
   "source": [
    "time_steps=6\n",
    "num_units=128\n",
    "imsize=64\n",
    "infsize=16"
   ]
  },
  {
   "cell_type": "code",
   "execution_count": 4,
   "metadata": {},
   "outputs": [],
   "source": [
    "import tensorflow as tf\n",
    "sess = tf.Session()"
   ]
  },
  {
   "cell_type": "code",
   "execution_count": 5,
   "metadata": {},
   "outputs": [],
   "source": [
    "inputs = tf.placeholder(tf.float32, [None, time_steps, imsize, imsize])\n",
    "labels = tf.placeholder(tf.float32, [None, time_steps, infsize, infsize, 1])\n",
    "\n",
    "input_steps = tf.unstack(inputs, time_steps, 1)\n",
    "\n",
    "conv_results = []\n",
    "for frame in input_steps:\n",
    "    shaped_frame = tf.reshape(frame, [-1, imsize, imsize, 1])\n",
    "    \n",
    "    # conv weights are shared across time steps t-6 .... t\n",
    "    with tf.variable_scope('SingularConv', reuse=tf.AUTO_REUSE):\n",
    "        # 64\n",
    "        carry = tf.layers.conv2d(shaped_frame, 32, 3, (1, 1), padding='same', activation=tf.nn.relu)\n",
    "        carry = tf.layers.conv2d(carry, 64, 3, (2, 2), padding='same', activation=tf.nn.relu)\n",
    "\n",
    "        # 32\n",
    "        carry = tf.layers.conv2d(carry, 128, 3, (1, 1), padding='same', activation=tf.nn.relu)\n",
    "        carry = tf.layers.conv2d(carry, 128, 3, (2, 2), padding='same', activation=tf.nn.relu)\n",
    "        \n",
    "        # 16\n",
    "#         carry = tf.layers.conv2d(carry, 256, 3, (1, 1), padding='same', activation=tf.nn.relu)\n",
    "#         carry = tf.layers.conv2d(carry, 256, 3, (1, 1), padding='same', activation=tf.nn.relu)\n",
    "#         carry = tf.layers.conv2d(carry, 256, 3, (2, 2), padding='same', activation=tf.nn.relu)\n",
    "        \n",
    "#         carry = tf.layers.conv2d(carry, 256, 3, (2, 2), padding='same', activation=tf.nn.relu)\n",
    "        \n",
    "        conv_results.append(carry)"
   ]
  },
  {
   "cell_type": "code",
   "execution_count": 6,
   "metadata": {},
   "outputs": [
    {
     "name": "stdout",
     "output_type": "stream",
     "text": [
      "6\n",
      "(?, 16, 16, 128)\n",
      "(?, 32768)\n"
     ]
    }
   ],
   "source": [
    "print(len(conv_results))\n",
    "print(conv_results[0].shape)\n",
    "flattened_steps = [tf.reshape(result, [-1, 16**2 * 128]) for result in conv_results]\n",
    "print(flattened_steps[0].shape)\n",
    "# assert False"
   ]
  },
  {
   "cell_type": "code",
   "execution_count": 7,
   "metadata": {},
   "outputs": [],
   "source": [
    "from tensorflow.contrib import rnn\n",
    "\n",
    "#defining the network\n",
    "lstm_cell=rnn.BasicLSTMCell(512)\n",
    "lstm_out, _ = rnn.static_rnn(lstm_cell, flattened_steps,dtype=tf.float32)"
   ]
  },
  {
   "cell_type": "code",
   "execution_count": 8,
   "metadata": {},
   "outputs": [],
   "source": [
    "guess_results = []\n",
    "guess_losses = []\n",
    "label_steps = tf.unstack(labels, time_steps, 1)\n",
    "for ii, state in enumerate(lstm_out):\n",
    "    \n",
    "    # shared weights for: t-6 .... t\n",
    "    with tf.variable_scope('SingularRegr', reuse=tf.AUTO_REUSE):\n",
    "        carry = tf.layers.dense(state, 16**2 * 128)\n",
    "        carry = tf.reshape(carry, [-1, 16, 16, 128])\n",
    "        carry = tf.layers.conv2d(carry, 128, 3, (1, 1), padding='same', activation=tf.nn.relu)\n",
    "        carry = tf.layers.conv2d(carry, 128, 3, (1, 1), padding='same', activation=tf.nn.relu)\n",
    "        carry = tf.layers.conv2d(carry, 256, 3, (1, 1), padding='same', activation=tf.nn.relu)\n",
    "        carry = tf.layers.conv2d(carry, 1, 3, (1, 1), padding='same')\n",
    "        \n",
    "        local_result = carry\n",
    "        guess_results.append(local_result)\n",
    "        local_loss = tf.nn.l2_loss(local_result - label_steps[ii])\n",
    "        guess_losses.append(local_loss)\n",
    "\n",
    "\n",
    "total_loss = tf.reduce_mean(guess_losses)\n",
    "heat_opt = tf.train.AdamOptimizer(learning_rate=0.001).minimize(total_loss)"
   ]
  },
  {
   "cell_type": "code",
   "execution_count": 9,
   "metadata": {},
   "outputs": [],
   "source": [
    "def random_noise(videos, perc=0.1): # 10% of videos will have noised out frames\n",
    "    for video in videos:\n",
    "        flip = np.random.randint(100)\n",
    "        if flip < int(perc * 100):\n",
    "            random_frame = np.random.randint(1, 5)\n",
    "            video[random_frame] = np.random.rand(video[random_frame].shape[1], video[random_frame].shape[0])"
   ]
  },
  {
   "cell_type": "code",
   "execution_count": 10,
   "metadata": {},
   "outputs": [
    {
     "name": "stdout",
     "output_type": "stream",
     "text": [
      "[790/800] L = 0.01 / 0.01\n"
     ]
    }
   ],
   "source": [
    "import numpy as np\n",
    "import os, sys\n",
    "import matplotlib.pyplot as plt\n",
    "\n",
    "MAX_ITER = 800\n",
    "BATCH_SIZE=16\n",
    "\n",
    "init=tf.global_variables_initializer()\n",
    "\n",
    "sess.run(init)\n",
    "\n",
    "def prep_data(batch_x, batch_y, bsize=BATCH_SIZE):\n",
    "    batch_x = batch_x.reshape((bsize,28,28))\n",
    "    animated = [animate(place(digit, frame_size=64), steps=5, size=64) for digit in batch_x]\n",
    "\n",
    "    videos = np.array([data[0] for data in animated])\n",
    "    all_coords = [data[1] for data in animated]\n",
    "    \n",
    "    heat_videos = np.array([matching_heatmap(series, framesize=64) for series in all_coords])\n",
    "#     print(heat_videos.shape)\n",
    "#     assert False\n",
    "    heat_videos = heat_videos.reshape((bsize, time_steps, 16, 16, 1))\n",
    "\n",
    "    return videos, heat_videos\n",
    "    \n",
    "epoch = 1\n",
    "while epoch < MAX_ITER:\n",
    "    batch_x, batch_y = mnist.train.next_batch(batch_size=BATCH_SIZE)\n",
    "\n",
    "    static_video, sized_heats = prep_data(batch_x, batch_y)\n",
    "    random_noise(static_video, perc=0.1)\n",
    "\n",
    "    sess.run(heat_opt, feed_dict={inputs: static_video, labels:sized_heats })\n",
    "\n",
    "    if epoch %10==0:\n",
    "        train_loss = sess.run(total_loss,feed_dict={inputs:static_video,labels:sized_heats})\n",
    "        \n",
    "        \n",
    "        test_data = mnist.test.images[:128].reshape((-1, 28, 28))\n",
    "        test_label = mnist.test.labels[:128]\n",
    "        static_video, sized_heats = prep_data(test_data, test_label, bsize=128)\n",
    "        test_loss = sess.run(total_loss, feed_dict={inputs: static_video, labels: sized_heats})\n",
    "\n",
    "\n",
    "        sys.stdout.write('[%d/%d] L = %.2f / %.2f\\r' % (epoch, MAX_ITER, train_loss / BATCH_SIZE, test_loss / 128))\n",
    "        sys.stdout.flush()\n",
    "\n",
    "    epoch = epoch + 1\n",
    "    \n",
    "print()\n",
    "\n",
    "# # calculating test accuracy\n"
   ]
  },
  {
   "cell_type": "code",
   "execution_count": 11,
   "metadata": {},
   "outputs": [
    {
     "name": "stdout",
     "output_type": "stream",
     "text": [
      "6 (1, 16, 16, 1)\n"
     ]
    }
   ],
   "source": [
    "test_data = mnist.test.images[:1].reshape((-1, 28, 28))\n",
    "test_label = mnist.test.labels[:1]\n",
    "static_video, sized_heats = prep_data(test_data, test_label, bsize=1)\n",
    "\n",
    "random_noise(static_video, perc=1.0)\n",
    "\n",
    "heat_guesses = sess.run(guess_results, feed_dict={inputs: static_video, labels: sized_heats})\n",
    "print(len(heat_guesses), heat_guesses[0].shape)"
   ]
  },
  {
   "cell_type": "code",
   "execution_count": 12,
   "metadata": {},
   "outputs": [
    {
     "data": {
      "image/png": "[encoded data removed]",
      "text/plain": [
       "<matplotlib.figure.Figure at 0x2ac8f037f048>"
      ]
     },
     "metadata": {},
     "output_type": "display_data"
    }
   ],
   "source": [
    "import numpy.linalg as la\n",
    "\n",
    "plt.figure(figsize=(14, 7))\n",
    "for ii in range(6):\n",
    "    plt.subplot(3, 6, ii+1)\n",
    "    plt.imshow(static_video[0][ii])\n",
    "    \n",
    "for ii in range(6):\n",
    "    plt.subplot(3, 6, ii+6+1)\n",
    "    plt.imshow(np.squeeze(sized_heats[0][ii]))\n",
    "    \n",
    "for ii in range(6):\n",
    "    plt.subplot(3, 6, ii+6+6+1)\n",
    "    plt.gca().set_title('Diff %.2f' % la.norm(np.squeeze(heat_guesses[ii]) - np.squeeze(sized_heats[0][ii])))\n",
    "    plt.imshow(np.squeeze(heat_guesses[ii]))\n",
    "\n",
    "plt.tight_layout()\n",
    "plt.show()\n"
   ]
  },
  {
   "cell_type": "code",
   "execution_count": null,
   "metadata": {},
   "outputs": [],
   "source": []
  }
 ],
 "metadata": {
  "kernelspec": {
   "display_name": "Python 3",
   "language": "python",
   "name": "python3"
  },
  "language_info": {
   "codemirror_mode": {
    "name": "ipython",
    "version": 3
   },
   "file_extension": ".py",
   "mimetype": "text/x-python",
   "name": "python",
   "nbconvert_exporter": "python",
   "pygments_lexer": "ipython3",
   "version": "3.6.3"
  }
 },
 "nbformat": 4,
 "nbformat_minor": 2
}
