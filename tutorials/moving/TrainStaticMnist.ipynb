{
 "cells": [
  {
   "cell_type": "code",
   "execution_count": 1,
   "metadata": {},
   "outputs": [],
   "source": [
    "%load_ext autoreload\n",
    "%autoreload 2"
   ]
  },
  {
   "cell_type": "markdown",
   "metadata": {},
   "source": [
    "### Static Mnist Video\n",
    "\n",
    "A simple case where lstm cells are trained on a video whose frames are simply one static mnist digit which doesn't move."
   ]
  },
  {
   "cell_type": "code",
   "execution_count": 2,
   "metadata": {},
   "outputs": [
    {
     "name": "stderr",
     "output_type": "stream",
     "text": [
      "/share/apps/python3/3.6.3/intel/lib/python3.6/site-packages/h5py-2.7.1-py3.6-linux-x86_64.egg/h5py/__init__.py:36: FutureWarning: Conversion of the second argument of issubdtype from `float` to `np.floating` is deprecated. In future, it will be treated as `np.float64 == np.dtype(float).type`.\n",
      "  from ._conv import register_converters as _register_converters\n"
     ]
    },
    {
     "name": "stdout",
     "output_type": "stream",
     "text": [
      "Extracting ./data/train-images-idx3-ubyte.gz\n",
      "Extracting ./data/train-labels-idx1-ubyte.gz\n",
      "Extracting ./data/t10k-images-idx3-ubyte.gz\n",
      "Extracting ./data/t10k-labels-idx1-ubyte.gz\n"
     ]
    }
   ],
   "source": [
    "from generate import *"
   ]
  },
  {
   "cell_type": "code",
   "execution_count": 3,
   "metadata": {},
   "outputs": [],
   "source": [
    "time_steps=6\n",
    "num_units=128\n",
    "imsize=28\n",
    "bsize=64"
   ]
  },
  {
   "cell_type": "code",
   "execution_count": 4,
   "metadata": {},
   "outputs": [],
   "source": [
    "import tensorflow as tf\n",
    "sess = tf.Session()"
   ]
  },
  {
   "cell_type": "code",
   "execution_count": 5,
   "metadata": {},
   "outputs": [],
   "source": [
    "inputs = tf.placeholder(tf.float32, [None, time_steps, imsize, imsize])\n",
    "labels = tf.placeholder(tf.float32, [None, 10])\n",
    "\n",
    "# TODO: convolve?\n",
    "flattened = tf.reshape(inputs, [-1, time_steps, imsize**2])\n",
    "input_steps = tf.unstack(flattened, time_steps, 1)"
   ]
  },
  {
   "cell_type": "code",
   "execution_count": 6,
   "metadata": {},
   "outputs": [],
   "source": [
    "from tensorflow.contrib import rnn\n",
    "\n",
    "#defining the network\n",
    "lstm_cell=rnn.BasicLSTMCell(num_units)\n",
    "lstm_out, _ = rnn.static_rnn(lstm_cell,input_steps,dtype=tf.float32)"
   ]
  },
  {
   "cell_type": "code",
   "execution_count": 7,
   "metadata": {},
   "outputs": [],
   "source": [
    "last_out = lstm_out[-1]\n",
    "guesses = tf.layers.dense(last_out, 10)\n",
    "\n",
    "digit_loss = tf.reduce_mean(tf.nn.softmax_cross_entropy_with_logits_v2(logits=guesses,labels=labels))\n",
    "\n",
    "digit_opt = tf.train.AdamOptimizer(learning_rate=0.001).minimize(digit_loss)"
   ]
  },
  {
   "cell_type": "code",
   "execution_count": 8,
   "metadata": {},
   "outputs": [],
   "source": [
    "correct_prediction = tf.equal(tf.argmax(guesses,1), tf.argmax(labels,1))\n",
    "accuracy = tf.reduce_mean(tf.cast(correct_prediction, tf.float32))"
   ]
  },
  {
   "cell_type": "code",
   "execution_count": 25,
   "metadata": {},
   "outputs": [
    {
     "name": "stdout",
     "output_type": "stream",
     "text": [
      "[790/800] L0.26 A0.97\n",
      "Testing Accuracy: 0.9921875\n"
     ]
    }
   ],
   "source": [
    "import numpy as np\n",
    "import os, sys\n",
    "\n",
    "MAX_ITER = 800\n",
    "BATCH_SIZE=64\n",
    "init=tf.global_variables_initializer()\n",
    "\n",
    "sess.run(init)\n",
    "epoch = 1\n",
    "while epoch < MAX_ITER:\n",
    "    batch_x, batch_y = mnist.train.next_batch(batch_size=BATCH_SIZE)\n",
    "\n",
    "    batch_x = batch_x.reshape((BATCH_SIZE,imsize,imsize))\n",
    "    \n",
    "    static_series = np.stack([batch_x]*time_steps, axis=1)\n",
    "#     print(static_series.shape, inputs.shape)\n",
    "#     break\n",
    "\n",
    "    sess.run(digit_opt, feed_dict={inputs: static_series, labels: batch_y})\n",
    "\n",
    "    if epoch %10==0:\n",
    "        acc = sess.run(accuracy,feed_dict={inputs:static_series,labels:batch_y})\n",
    "        los = sess.run(digit_loss,feed_dict={inputs:static_series,labels:batch_y})\n",
    "        sys.stdout.write('[%d/%d] L%.2f A%.2f\\r' % (epoch, MAX_ITER, los, acc))\n",
    "        sys.stdout.flush()\n",
    "\n",
    "    epoch = epoch + 1\n",
    "    \n",
    "print()\n",
    "\n",
    "# calculating test accuracy\n",
    "test_data = mnist.test.images[:128].reshape((-1, imsize, imsize))\n",
    "test_label = mnist.test.labels[:128]\n",
    "static_series = np.stack([test_data]*time_steps, axis=1)\n",
    "print(\"Testing Accuracy:\", sess.run(accuracy, feed_dict={inputs: static_series, labels: test_label}))"
   ]
  },
  {
   "cell_type": "code",
   "execution_count": 26,
   "metadata": {},
   "outputs": [
    {
     "data": {
      "image/png": "[encoded data removed]",
      "text/plain": [
       "<matplotlib.figure.Figure at 0x2ae657a3cc18>"
      ]
     },
     "metadata": {},
     "output_type": "display_data"
    }
   ],
   "source": [
    "import matplotlib.pyplot as plt\n",
    "\n",
    "plt.figure(figsize=(14, 5))\n",
    "for ii in range(time_steps):\n",
    "    plt.subplot(1, time_steps, ii+1)\n",
    "    plt.gca().set_title('Frame-%d' % ii)\n",
    "    plt.imshow(static_series[0, ii])\n",
    "plt.show()"
   ]
  },
  {
   "cell_type": "code",
   "execution_count": null,
   "metadata": {},
   "outputs": [],
   "source": []
  }
 ],
 "metadata": {
  "kernelspec": {
   "display_name": "Python 3",
   "language": "python",
   "name": "python3"
  },
  "language_info": {
   "codemirror_mode": {
    "name": "ipython",
    "version": 3
   },
   "file_extension": ".py",
   "mimetype": "text/x-python",
   "name": "python",
   "nbconvert_exporter": "python",
   "pygments_lexer": "ipython3",
   "version": "3.6.3"
  }
 },
 "nbformat": 4,
 "nbformat_minor": 2
}
